{
 "cells": [
  {
   "attachments": {},
   "cell_type": "markdown",
   "metadata": {},
   "source": [
    "# Example application: computing the tree canopy for the Foreset Preserves of Cook County\n",
    "\n",
    "In this example, we will compute a binary tree canopy map for [Theodore Stone Forest](https://fpdcc.com/places/locations/theodore-stone-forest/) and [Arie Crown Forest](https://fpdcc.com/places/locations/arie-crown-forest/).\n",
    "\n",
    "### Steps:\n",
    "1. Retrieve NAIP images of each location (as gee ImageCollection)\n",
    "    - make tiles from images\n",
    "2. Test model on NAIP images (these have different resolutions).\n",
    "    - load trained model \n",
    "    - visualize canopy on NAIP image\n",
    "    - possibly retrain model by blurring/filtering some images if model does not perform well on older NAIP imagery\n",
    "3. \n"
   ]
  },
  {
   "attachments": {},
   "cell_type": "markdown",
   "metadata": {},
   "source": [
    "### Setup Notebook"
   ]
  },
  {
   "cell_type": "code",
   "execution_count": 35,
   "metadata": {},
   "outputs": [
    {
     "name": "stdout",
     "output_type": "stream",
     "text": [
      "Working directory: c:\\Users\\marin\\Documents\\_MJMS\\Dev\\detectree-example-IL\n"
     ]
    }
   ],
   "source": [
    "import os\n",
    "from os import path\n",
    "from os.path import dirname, join as pjoin\n",
    "import json \n",
    "import detectree as dtr\n",
    "import geopandas as gpd\n",
    "import rasterio as rio\n",
    "from rasterio import merge\n",
    "import geemap\n",
    "import ee\n",
    "from geemap import geojson_to_ee, ee_to_geojson\n",
    "from detectree_example import make_response_tiles, plot_utils, settings\n",
    "import joblib\n",
    "import pandas as pd\n",
    "\n",
    "os.chdir('c:\\\\Users\\\\marin\\\\Documents\\\\_MJMS\\\\Dev\\\\detectree-example-IL')\n",
    "print(f'Working directory: {os.getcwd()}')"
   ]
  },
  {
   "cell_type": "code",
   "execution_count": 2,
   "metadata": {},
   "outputs": [
    {
     "data": {
      "text/html": [
       "<p>To authorize access needed by Earth Engine, open the following\n",
       "        URL in a web browser and follow the instructions:</p>\n",
       "        <p><a href=https://code.earthengine.google.com/client-auth?scopes=https%3A//www.googleapis.com/auth/earthengine%20https%3A//www.googleapis.com/auth/devstorage.full_control&request_id=6VwE5jPEye-05M4G2BKj15Y_3mYtHQP8Kqumyl-xipA&tc=byu_REd4UpH_2w7PzEcty8u7xTOAIeUVrDeKdhT02do&cc=CR4jYJCjm3-nY_WQprRsXaa9N4PtbPaIAB7JKOmvZGQ>https://code.earthengine.google.com/client-auth?scopes=https%3A//www.googleapis.com/auth/earthengine%20https%3A//www.googleapis.com/auth/devstorage.full_control&request_id=6VwE5jPEye-05M4G2BKj15Y_3mYtHQP8Kqumyl-xipA&tc=byu_REd4UpH_2w7PzEcty8u7xTOAIeUVrDeKdhT02do&cc=CR4jYJCjm3-nY_WQprRsXaa9N4PtbPaIAB7JKOmvZGQ</a></p>\n",
       "        <p>The authorization workflow will generate a code, which you should paste in the box below.</p>\n",
       "        "
      ],
      "text/plain": [
       "<IPython.core.display.HTML object>"
      ]
     },
     "metadata": {},
     "output_type": "display_data"
    },
    {
     "name": "stdout",
     "output_type": "stream",
     "text": [
      "\n",
      "Successfully saved authorization token.\n"
     ]
    }
   ],
   "source": [
    "# Trigger the authentication flow.\n",
    "ee.Authenticate()\n",
    "# Initialize the library.\n",
    "ee.Initialize()"
   ]
  },
  {
   "cell_type": "code",
   "execution_count": null,
   "metadata": {},
   "outputs": [],
   "source": []
  },
  {
   "attachments": {},
   "cell_type": "markdown",
   "metadata": {},
   "source": [
    "## Retrieve data from NAIP"
   ]
  },
  {
   "cell_type": "code",
   "execution_count": 27,
   "metadata": {},
   "outputs": [],
   "source": [
    "coords_path = \"data\\FPCC_prairie_canopy\\coords.json\"\n",
    "with open(coords_path, 'r') as coords_file:\n",
    "    coords = json.load(coords_file)\n",
    "\n",
    "output_dir = \"data/FPCC_prairie_canopy/NAIP_data\"\n",
    "if not path.exists(output_dir):\n",
    "    os.mkdir(output_dir)\n",
    "  \n"
   ]
  },
  {
   "cell_type": "code",
   "execution_count": 28,
   "metadata": {},
   "outputs": [
    {
     "name": "stdout",
     "output_type": "stream",
     "text": [
      "Total number of images: 14\n",
      "\n",
      "Exporting 1/14: m_4108709_se_16_060_20190809.tif\n",
      "Generating URL ...\n",
      "Downloading data from https://earthengine.googleapis.com/v1alpha/projects/earthengine-legacy/thumbnails/a71a776896fadf2bf8121570badf5519-f2fa7d87b13ffe29922a75a2feefa5a8:getPixels\n",
      "Please wait ...\n",
      "Data downloaded to c:\\Users\\marin\\Documents\\_MJMS\\Dev\\detectree-example-IL\\data\\FPCC_prairie_canopy\\NAIP_data\\m_4108709_se_16_060_20190809.tif\n",
      "\n",
      "\n",
      "Exporting 2/14: m_4108709_se_16_1_20100701.tif\n",
      "Generating URL ...\n",
      "Downloading data from https://earthengine.googleapis.com/v1alpha/projects/earthengine-legacy/thumbnails/72b7923fe597a0a6abc2afb72e6ea201-649d322ef243b58451023d1a3ac6e1fc:getPixels\n",
      "Please wait ...\n",
      "Data downloaded to c:\\Users\\marin\\Documents\\_MJMS\\Dev\\detectree-example-IL\\data\\FPCC_prairie_canopy\\NAIP_data\\m_4108709_se_16_1_20100701.tif\n",
      "\n",
      "\n",
      "Exporting 3/14: m_4108709_se_16_1_20110826.tif\n",
      "Generating URL ...\n",
      "Downloading data from https://earthengine.googleapis.com/v1alpha/projects/earthengine-legacy/thumbnails/20cba0c81b57fc435300f050f1d63d8a-07d3cf1f7b91b9045e231c628bd7ed5e:getPixels\n",
      "Please wait ...\n",
      "Data downloaded to c:\\Users\\marin\\Documents\\_MJMS\\Dev\\detectree-example-IL\\data\\FPCC_prairie_canopy\\NAIP_data\\m_4108709_se_16_1_20110826.tif\n",
      "\n",
      "\n",
      "Exporting 4/14: m_4108709_se_16_1_20120619.tif\n",
      "Generating URL ...\n",
      "Downloading data from https://earthengine.googleapis.com/v1alpha/projects/earthengine-legacy/thumbnails/bb4365f667ae30817a31e6b79072351c-676b9f7cfb8cc3d036cf9eb1e521e968:getPixels\n",
      "Please wait ...\n",
      "Data downloaded to c:\\Users\\marin\\Documents\\_MJMS\\Dev\\detectree-example-IL\\data\\FPCC_prairie_canopy\\NAIP_data\\m_4108709_se_16_1_20120619.tif\n",
      "\n",
      "\n",
      "Exporting 5/14: m_4108709_se_16_1_20140613.tif\n",
      "Generating URL ...\n",
      "Downloading data from https://earthengine.googleapis.com/v1alpha/projects/earthengine-legacy/thumbnails/9ef460a61bdc129cce5fb30ae41f47ba-b9bc8525c15e241fa26e6944b2ff4ef3:getPixels\n",
      "Please wait ...\n",
      "Data downloaded to c:\\Users\\marin\\Documents\\_MJMS\\Dev\\detectree-example-IL\\data\\FPCC_prairie_canopy\\NAIP_data\\m_4108709_se_16_1_20140613.tif\n",
      "\n",
      "\n",
      "Exporting 6/14: m_4108709_se_16_1_20150822.tif\n",
      "Generating URL ...\n",
      "Downloading data from https://earthengine.googleapis.com/v1alpha/projects/earthengine-legacy/thumbnails/a9cb34963e995ab04abbe977df6a8ff8-4903a9692571c034b491a4a2c44a1c41:getPixels\n",
      "Please wait ...\n",
      "Data downloaded to c:\\Users\\marin\\Documents\\_MJMS\\Dev\\detectree-example-IL\\data\\FPCC_prairie_canopy\\NAIP_data\\m_4108709_se_16_1_20150822.tif\n",
      "\n",
      "\n",
      "Exporting 7/14: m_4108709_se_16_1_20170816.tif\n",
      "Generating URL ...\n",
      "Downloading data from https://earthengine.googleapis.com/v1alpha/projects/earthengine-legacy/thumbnails/e8f62f2d1be5fb976a54413064e72ff8-e0138bc85613691833cc0c8d48943bf8:getPixels\n",
      "Please wait ...\n",
      "Data downloaded to c:\\Users\\marin\\Documents\\_MJMS\\Dev\\detectree-example-IL\\data\\FPCC_prairie_canopy\\NAIP_data\\m_4108709_se_16_1_20170816.tif\n",
      "\n",
      "\n",
      "Exporting 8/14: m_4108710_sw_16_060_20190809.tif\n",
      "Generating URL ...\n",
      "Downloading data from https://earthengine.googleapis.com/v1alpha/projects/earthengine-legacy/thumbnails/288fb3ea6142e21580439492efc1fb03-3604e99a2949cce984310bea65c65a3b:getPixels\n",
      "Please wait ...\n",
      "Data downloaded to c:\\Users\\marin\\Documents\\_MJMS\\Dev\\detectree-example-IL\\data\\FPCC_prairie_canopy\\NAIP_data\\m_4108710_sw_16_060_20190809.tif\n",
      "\n",
      "\n",
      "Exporting 9/14: m_4108710_sw_16_1_20100701.tif\n",
      "Generating URL ...\n",
      "Downloading data from https://earthengine.googleapis.com/v1alpha/projects/earthengine-legacy/thumbnails/87b9fada18cd7d9d97c3dc4bd1386f1b-c9379976132aadbf5027ccbc6aba59d3:getPixels\n",
      "Please wait ...\n",
      "Data downloaded to c:\\Users\\marin\\Documents\\_MJMS\\Dev\\detectree-example-IL\\data\\FPCC_prairie_canopy\\NAIP_data\\m_4108710_sw_16_1_20100701.tif\n",
      "\n",
      "\n",
      "Exporting 10/14: m_4108710_sw_16_1_20110826.tif\n",
      "Generating URL ...\n",
      "Downloading data from https://earthengine.googleapis.com/v1alpha/projects/earthengine-legacy/thumbnails/b4d89fc75c41d43925fbb333e49e6184-75210b4f28ac023e3f41b025aa653d58:getPixels\n",
      "Please wait ...\n",
      "Data downloaded to c:\\Users\\marin\\Documents\\_MJMS\\Dev\\detectree-example-IL\\data\\FPCC_prairie_canopy\\NAIP_data\\m_4108710_sw_16_1_20110826.tif\n",
      "\n",
      "\n",
      "Exporting 11/14: m_4108710_sw_16_1_20120619.tif\n",
      "Generating URL ...\n",
      "Downloading data from https://earthengine.googleapis.com/v1alpha/projects/earthengine-legacy/thumbnails/cd1ca6c36adb9af4398f1e17ce86620a-4278220babd82ef03bb072ad081e736e:getPixels\n",
      "Please wait ...\n",
      "Data downloaded to c:\\Users\\marin\\Documents\\_MJMS\\Dev\\detectree-example-IL\\data\\FPCC_prairie_canopy\\NAIP_data\\m_4108710_sw_16_1_20120619.tif\n",
      "\n",
      "\n",
      "Exporting 12/14: m_4108710_sw_16_1_20140613.tif\n",
      "Generating URL ...\n",
      "Downloading data from https://earthengine.googleapis.com/v1alpha/projects/earthengine-legacy/thumbnails/89503190045bea3ca540bda552780ccb-155a70687bdad3e23bab55f6fa3ac7de:getPixels\n",
      "Please wait ...\n",
      "Data downloaded to c:\\Users\\marin\\Documents\\_MJMS\\Dev\\detectree-example-IL\\data\\FPCC_prairie_canopy\\NAIP_data\\m_4108710_sw_16_1_20140613.tif\n",
      "\n",
      "\n",
      "Exporting 13/14: m_4108710_sw_16_1_20150822.tif\n",
      "Generating URL ...\n",
      "Downloading data from https://earthengine.googleapis.com/v1alpha/projects/earthengine-legacy/thumbnails/ad23fd45e4c079fc2235f3909158c693-524ae76448bf0e68afa80c1b265e50e0:getPixels\n",
      "Please wait ...\n",
      "Data downloaded to c:\\Users\\marin\\Documents\\_MJMS\\Dev\\detectree-example-IL\\data\\FPCC_prairie_canopy\\NAIP_data\\m_4108710_sw_16_1_20150822.tif\n",
      "\n",
      "\n",
      "Exporting 14/14: m_4108710_sw_16_1_20170901.tif\n",
      "Generating URL ...\n",
      "Downloading data from https://earthengine.googleapis.com/v1alpha/projects/earthengine-legacy/thumbnails/be5df16af576de1036a2de36da02aca5-66d7be9a186bd5db230432ea342f69ec:getPixels\n",
      "Please wait ...\n",
      "Data downloaded to c:\\Users\\marin\\Documents\\_MJMS\\Dev\\detectree-example-IL\\data\\FPCC_prairie_canopy\\NAIP_data\\m_4108710_sw_16_1_20170901.tif\n",
      "\n",
      "\n"
     ]
    }
   ],
   "source": [
    "location_name = 'sundown_meadow'\n",
    "lon = coords[location_name][\"lon\"]\n",
    "lat = coords[location_name][\"lat\"]\n",
    "geom_point = ee.Geometry.Point(lon,lat)\n",
    "\n",
    "collection = (\n",
    "    ee.ImageCollection('USDA/NAIP/DOQQ')\n",
    "    .filterBounds(geom_point)\n",
    "    .filterDate('2008-01-01', '2023-01-01')\n",
    "    .filter(ee.Filter.listContains(\"system:band_names\", \"N\"))\n",
    ")\n",
    "\n",
    "geemap.ee_export_image_collection(collection, scale=3,out_dir=output_dir)\n",
    "     \n"
   ]
  },
  {
   "attachments": {},
   "cell_type": "markdown",
   "metadata": {},
   "source": [
    "## Test model on NAIP"
   ]
  },
  {
   "cell_type": "code",
   "execution_count": 30,
   "metadata": {},
   "outputs": [],
   "source": [
    "clf_path = \"models/model-retrained-aussersihl.joblib\"\n",
    "clf = joblib.load(clf_path)"
   ]
  },
  {
   "cell_type": "code",
   "execution_count": 44,
   "metadata": {},
   "outputs": [],
   "source": [
    "output_dir = \"data/FPCC_prairie_canopy/NAIP_data/pred_imgs\"\n",
    "if not path.exists(output_dir):\n",
    "    os.mkdir(output_dir)\n",
    "  "
   ]
  },
  {
   "cell_type": "code",
   "execution_count": 50,
   "metadata": {},
   "outputs": [
    {
     "data": {
      "text/html": [
       "<div>\n",
       "<style scoped>\n",
       "    .dataframe tbody tr th:only-of-type {\n",
       "        vertical-align: middle;\n",
       "    }\n",
       "\n",
       "    .dataframe tbody tr th {\n",
       "        vertical-align: top;\n",
       "    }\n",
       "\n",
       "    .dataframe thead th {\n",
       "        text-align: right;\n",
       "    }\n",
       "</style>\n",
       "<table border=\"1\" class=\"dataframe\">\n",
       "  <thead>\n",
       "    <tr style=\"text-align: right;\">\n",
       "      <th></th>\n",
       "      <th>img_filepath</th>\n",
       "      <th>train</th>\n",
       "    </tr>\n",
       "  </thead>\n",
       "  <tbody>\n",
       "    <tr>\n",
       "      <th>0</th>\n",
       "      <td>data/FPCC_prairie_canopy/NAIP_data/Screenshot ...</td>\n",
       "      <td>False</td>\n",
       "    </tr>\n",
       "  </tbody>\n",
       "</table>\n",
       "</div>"
      ],
      "text/plain": [
       "                                        img_filepath  train\n",
       "0  data/FPCC_prairie_canopy/NAIP_data/Screenshot ...  False"
      ]
     },
     "execution_count": 50,
     "metadata": {},
     "output_type": "execute_result"
    }
   ],
   "source": [
    "test_image = \"data/FPCC_prairie_canopy/NAIP_data/Screenshot 2023-03-23 143359.tif\"\n",
    "df = pd.DataFrame(data={'img_filepath':[test_image], 'train':[False]})\n",
    "df.head()"
   ]
  },
  {
   "cell_type": "code",
   "execution_count": 51,
   "metadata": {},
   "outputs": [
    {
     "name": "stdout",
     "output_type": "stream",
     "text": [
      "[########################################] | 100% Completed | 37.55 s\n"
     ]
    }
   ],
   "source": [
    "c = dtr.Classifier()\n",
    "\n",
    "pred_tiles = c.classify_imgs(df, output_dir=output_dir, clf=clf)"
   ]
  },
  {
   "cell_type": "code",
   "execution_count": null,
   "metadata": {},
   "outputs": [],
   "source": []
  },
  {
   "cell_type": "markdown",
   "metadata": {},
   "source": [
    "## Train/test split\n",
    "\n",
    "The `make` target above will store the required tiles in the 'data/interim/aussersihl_tiles' directory, which we will pass to the [`TrainingSelector`](https://detectree.readthedocs.io/en/latest/train_test_split.html#detectree.TrainingSelector.__init__) initialization method. For this example, we will use the ['cluster-I'](https://github.com/martibosch/detectree-example/blob/master/notebooks/cluster-I.ipynb) method (see Yang et al. [1]) to select the tiles that will be used to train the tree pixel classifier."
   ]
  },
  {
   "cell_type": "code",
   "execution_count": null,
   "metadata": {},
   "outputs": [],
   "source": [
    "ts = dtr.TrainingSelector(img_dir='data/interim/aussersihl_tiles')\n",
    "split_df = ts.train_test_split(method='cluster-I')"
   ]
  },
  {
   "cell_type": "markdown",
   "metadata": {},
   "source": [
    "## Interlude: computing the responses from LIDAR data\n",
    "\n",
    "Since detectree uses a supervised learning approach, we need to manually provide the responses (i.e., binary images representing the ground-truth tree/non-tree masks) for the training tiles so that the tree/non-tree pixel classifier can be trained. \n",
    "\n",
    "There are many ways to obtain such masks, the most straight-forward being manual edition in a raster graphics editor software such as [GIMP](https://www.gimp.org/). In the case of this example dataset, the ground-truth masks can be extracted from [Zurich's 2014 LIDAR dataset](https://www.geolion.zh.ch/geodatensatz/show?gdsid=343). Such task is accomplished in the two cells below, whose content is out of the scope of detectree."
   ]
  },
  {
   "cell_type": "code",
   "execution_count": null,
   "metadata": {},
   "outputs": [],
   "source": [
    "!make download_lidar_shp"
   ]
  },
  {
   "cell_type": "code",
   "execution_count": null,
   "metadata": {},
   "outputs": [],
   "source": [
    "lidar_gdf = gpd.read_file('data/raw/lidar/lidar2014.shp')\n",
    "\n",
    "response_dir = 'data/interim/aussersihl_response-tiles'\n",
    "if not path.exists(response_dir):\n",
    "    os.mkdir(response_dir)\n",
    "\n",
    "response_tiles = make_response_tiles.make_response_tiles(\n",
    "    split_df, lidar_gdf, 'data/raw/lidar', response_dir)"
   ]
  },
  {
   "cell_type": "markdown",
   "metadata": {},
   "source": [
    "## Training the classifier\n",
    "\n",
    "We can now proceed to the training of the classifier. In detectree, this can be done with the `train_classifier` method of the `ClassifierTrainer` class, which accepts the train/test split data frame as the `split_df` keyword argument (see [its documentation](https://detectree.readthedocs.io/en/latest/pixel_classification.html#detectree.ClassifierTrainer.train_classifier) for more details). Note that the training of the classifier can take some time."
   ]
  },
  {
   "cell_type": "code",
   "execution_count": null,
   "metadata": {},
   "outputs": [],
   "source": [
    "clf = dtr.ClassifierTrainer().train_classifier(split_df=split_df,\n",
    "                                               response_img_dir=response_dir)"
   ]
  },
  {
   "cell_type": "markdown",
   "metadata": {},
   "source": [
    "## Predicting tree/non-tree labels\n",
    "\n",
    "Once the classifier has been trained, it can be used to predict the tree/non-tree labels from any given tile. We will first create a directory where the predicted tiles will be dumped:"
   ]
  },
  {
   "cell_type": "code",
   "execution_count": null,
   "metadata": {},
   "outputs": [],
   "source": [
    "output_dir = 'data/interim/aussersihl_pred-tiles'\n",
    "if not path.exists(output_dir):\n",
    "    os.mkdir(output_dir)"
   ]
  },
  {
   "cell_type": "markdown",
   "metadata": {},
   "source": [
    "We can use the `classify_imgs` method of the `Classifier` class, which will predict the tree/non-tree labels for all the testing tiles of `split_df` (see [its documentation](https://detectree.readthedocs.io/en/latest/pixel_classification.html#detectree.Classifier.classify_imgs) for more details)."
   ]
  },
  {
   "cell_type": "code",
   "execution_count": null,
   "metadata": {},
   "outputs": [],
   "source": [
    "c = dtr.Classifier()\n",
    "\n",
    "pred_tiles = c.classify_imgs(split_df, output_dir=output_dir, clf=clf)"
   ]
  },
  {
   "cell_type": "code",
   "execution_count": null,
   "metadata": {},
   "outputs": [],
   "source": [
    "pred_tiles"
   ]
  },
  {
   "cell_type": "markdown",
   "metadata": {},
   "source": [
    "## Saving the tree canopy map as a single GeoTIFF file\n",
    "\n",
    "Once we have tree pixels of all tiles, we can use the [`merge` function](https://rasterio.readthedocs.io/en/latest/api/rasterio.merge.html?highlight=merge#rasterio.merge.merge) of rasterio to assemble all the tiles into a single file, i.e., the binary tree canopy map.\n",
    "\n",
    "We will first get a list of all the tree/non-tree tiles, i.e., the ones used for training (`response_tiles`) and the ones used for testing (`pred_tiles`), then read them with rasterio and pass them to the `merge` function:"
   ]
  },
  {
   "cell_type": "code",
   "execution_count": null,
   "metadata": {},
   "outputs": [],
   "source": [
    "canopy_tiles = pred_tiles + response_tiles\n",
    "\n",
    "canopy_arr, canopy_transform = merge.merge(\n",
    "    [rio.open(canopy_tile) for canopy_tile in canopy_tiles])"
   ]
  },
  {
   "cell_type": "markdown",
   "metadata": {},
   "source": [
    "We can now plot the result over a basemap (provided by means of the [contextily](https://github.com/geopandas/contextily) library):"
   ]
  },
  {
   "cell_type": "code",
   "execution_count": null,
   "metadata": {},
   "outputs": [],
   "source": [
    "plot_utils.plot_canopy(canopy_arr, canopy_transform, figsize=(12, 8))"
   ]
  },
  {
   "cell_type": "markdown",
   "metadata": {},
   "source": [
    "Finally, we can use rasterio to dump the tree canopy array to a GeoTIFF file:"
   ]
  },
  {
   "cell_type": "code",
   "execution_count": null,
   "metadata": {},
   "outputs": [],
   "source": [
    "output_dir = 'data/processed'\n",
    "if not path.exists(output_dir):\n",
    "    os.mkdir(output_dir)\n",
    "\n",
    "output_canopy_filepath = path.join(output_dir, 'aussersihl_canopy.tif')\n",
    "output_dtype = rio.uint8\n",
    "\n",
    "with rio.open(output_canopy_filepath,\n",
    "              'w',\n",
    "              driver='GTiff',\n",
    "              width=canopy_arr.shape[2],\n",
    "              height=canopy_arr.shape[1],\n",
    "              count=1,\n",
    "              crs=settings.CRS,\n",
    "              transform=canopy_transform,\n",
    "              dtype=output_dtype) as dst:\n",
    "    dst.write(canopy_arr.astype(output_dtype))"
   ]
  },
  {
   "cell_type": "markdown",
   "metadata": {},
   "source": [
    "## References\n",
    "\n",
    "1. Yang, L., Wu, X., Praun, E., & Ma, X. (2009). Tree detection from aerial imagery. In Proceedings of the 17th ACM SIGSPATIAL International Conference on Advances in Geographic Information Systems (pp. 131-137). ACM."
   ]
  }
 ],
 "metadata": {
  "kernelspec": {
   "display_name": "detectree",
   "language": "python",
   "name": "python3"
  },
  "language_info": {
   "codemirror_mode": {
    "name": "ipython",
    "version": 3
   },
   "file_extension": ".py",
   "mimetype": "text/x-python",
   "name": "python",
   "nbconvert_exporter": "python",
   "pygments_lexer": "ipython3",
   "version": "3.11.0"
  },
  "name": "example-application.ipynb"
 },
 "nbformat": 4,
 "nbformat_minor": 4
}
