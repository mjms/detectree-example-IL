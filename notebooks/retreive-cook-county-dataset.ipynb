{
 "cells": [
  {
   "cell_type": "code",
   "execution_count": 1,
   "metadata": {},
   "outputs": [],
   "source": [
    "import requests\n",
    "import json\n"
   ]
  },
  {
   "cell_type": "code",
   "execution_count": 17,
   "metadata": {},
   "outputs": [],
   "source": [
    "bbox = \"-87.867944,41.768607,-87.858117,41.774296\"#\"-87.874403,41.771276,-87.868153,41.774040\"#\"-87.877493,41.768047,-87.857966,41.775856\"\n",
    "imageSR = \"\"\n",
    "bboxSR = \"4326\"\n",
    "export_height = \"3600\"\n",
    "export_width = \"4000\"\n",
    "format = \"tif\"\n",
    "year = '2017'\n",
    "url = f\"https://gis.cookcountyil.gov/imagery/rest/services/CookOrtho{year}/ImageServer/exportImage?f=image&bbox={bbox}&imageSR={imageSR}&bboxSR={bboxSR}&size={export_width},{export_height}&format={format}\"\n"
   ]
  },
  {
   "cell_type": "code",
   "execution_count": 18,
   "metadata": {},
   "outputs": [],
   "source": [
    "with open(f'TSF-image-{year}-zoom.{format}', 'wb') as f:\n",
    "    f.write(requests.get(url).content)"
   ]
  },
  {
   "cell_type": "code",
   "execution_count": 27,
   "metadata": {},
   "outputs": [],
   "source": [
    "for year in range(2009,2023):\n",
    "    bbox = \"-87.874403,41.771276,-87.868153,41.774040\"#\"-87.877493,41.768047,-87.857966,41.775856\"\"-87.867944,41.768607,-87.858117,41.774296\"\n",
    "    imageSR = \"\"\n",
    "    bboxSR = \"4326\"\n",
    "    export_height = \"4000\"\n",
    "    export_width = \"4000\"\n",
    "    format = \"tif\"\n",
    "    # year = '2017'\n",
    "    url = f\"https://gis.cookcountyil.gov/imagery/rest/services/CookOrtho{year}/ImageServer/exportImage?f=image&bbox={bbox}&imageSR={imageSR}&bboxSR={bboxSR}&size={export_width},{export_height}&format={format}\"\n",
    "\n",
    "    with open(f'SM-image-{year}-zoom.{format}', 'wb') as f:\n",
    "        f.write(requests.get(url).content)"
   ]
  }
 ],
 "metadata": {
  "kernelspec": {
   "display_name": "detectree",
   "language": "python",
   "name": "python3"
  },
  "language_info": {
   "codemirror_mode": {
    "name": "ipython",
    "version": 3
   },
   "file_extension": ".py",
   "mimetype": "text/x-python",
   "name": "python",
   "nbconvert_exporter": "python",
   "pygments_lexer": "ipython3",
   "version": "3.9.7"
  },
  "orig_nbformat": 4
 },
 "nbformat": 4,
 "nbformat_minor": 2
}
